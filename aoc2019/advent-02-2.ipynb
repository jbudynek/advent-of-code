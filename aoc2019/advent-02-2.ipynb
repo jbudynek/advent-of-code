{
 "cells": [
  {
   "cell_type": "code",
   "execution_count": null,
   "metadata": {},
   "outputs": [],
   "source": [
    "import numpy as np\n",
    "input0 = [1,0,0,3,1,1,2,3,1,3,4,3,1,5,0,3,2,13,1,19,1,19,6,23,1,23,6,27,1,13,27,31,2,13,31,35,1,5,35,39,2,39,13,43,1,10,43,47,2,13,47,51,1,6,51,55,2,55,13,59,1,59,10,63,1,63,10,67,2,10,67,71,1,6,71,75,1,10,75,79,1,79,9,83,2,83,6,87,2,87,9,91,1,5,91,95,1,6,95,99,1,99,9,103,2,10,103,107,1,107,6,111,2,9,111,115,1,5,115,119,1,10,119,123,1,2,123,127,1,127,6,0,99,2,14,0,0]"
   ]
  },
  {
   "cell_type": "code",
   "execution_count": null,
   "metadata": {},
   "outputs": [],
   "source": [
    "\n",
    "def opcode(code):\n",
    "    i=0\n",
    "    while(code[i]!=99):\n",
    "        if (code[i] == 1):\n",
    "            code[code[i+3]] = code[code[i+1]]+code[code[i+2]]\n",
    "        elif (code[i] == 2):\n",
    "            code[code[i+3]] = code[code[i+1]]*code[code[i+2]]\n",
    "        i = i +4\n",
    "    \n",
    "    return code\n",
    "\n"
   ]
  },
  {
   "cell_type": "code",
   "execution_count": null,
   "metadata": {},
   "outputs": [],
   "source": [
    "def test(cc):\n",
    "    print(str(cc) + \" -> \"+str(opcode(cc)))"
   ]
  },
  {
   "cell_type": "code",
   "execution_count": null,
   "metadata": {},
   "outputs": [],
   "source": [
    "test([1,9,10,3,2,3,11,0,99,30,40,50]) # [3500, 9, 10, 70, 2, 3, 11, 0, 99, 30, 40, 50]\n",
    "\n",
    "test([1,0,0,0,99]) # becomes 2,0,0,0,99 (1 + 1 = 2).\n",
    "test([2,3,0,3,99]) # becomes 2,3,0,6,99 (3 * 2 = 6).\n",
    "test([2,4,4,5,99,0]) # becomes 2,4,4,5,99,9801 (99 * 99 = 9801).\n",
    "test([1,1,1,4,99,5,6,0,99]) # becomes 30,1,1,4,2,5,6,0,99."
   ]
  },
  {
   "cell_type": "code",
   "execution_count": null,
   "metadata": {},
   "outputs": [],
   "source": [
    "for n in range(0,100):\n",
    "    for v in range(0,100):\n",
    "        #print(n,v)\n",
    "        input = np.copy(input0)\n",
    "        input[1] = n\n",
    "        input[2] = v\n",
    "        #print(input)\n",
    "        code = opcode(input) \n",
    "        #print(code[0])\n",
    "        if (code[0]== 19690720):\n",
    "            print(\"***\")\n",
    "            print(n,v,code[0])\n",
    "            print(str(100*n+v))\n",
    "            print(\"***\")"
   ]
  },
  {
   "cell_type": "code",
   "execution_count": null,
   "metadata": {},
   "outputs": [],
   "source": [
    "for n in range(0,5):\n",
    "    for v in range(0,5):\n",
    "        input = np.copy(input0)\n",
    "        input[1] = n\n",
    "        input[2] = v\n",
    "        #print(input)\n",
    "        code = opcode(input) \n",
    "        print(n,v,code[0])\n",
    "        if (code[0]== 19690720):\n",
    "            print(\"***\")\n",
    "            print(n,v,code[0])\n",
    "            print(str(100*n+v))\n",
    "            print(\"***\")"
   ]
  },
  {
   "cell_type": "markdown",
   "metadata": {},
   "source": [
    "- v conditionne les 2 derniers chiffres quel que soit n\n",
    "- et n conditionne les 2 premiers chiffres quel que soit v (edited) \n",
    "- en bidouillant tu trouves rapidement v = 3\n",
    "- et n = (196-16)/9"
   ]
  },
  {
   "cell_type": "code",
   "execution_count": null,
   "metadata": {},
   "outputs": [],
   "source": []
  }
 ],
 "metadata": {
  "kernelspec": {
   "display_name": "",
   "language": "python",
   "name": ""
  },
  "language_info": {
   "codemirror_mode": {
    "name": "ipython",
    "version": 3
   },
   "file_extension": ".py",
   "mimetype": "text/x-python",
   "name": "python",
   "nbconvert_exporter": "python",
   "pygments_lexer": "ipython3",
   "version": "3.6.6"
  }
 },
 "nbformat": 4,
 "nbformat_minor": 2
}
