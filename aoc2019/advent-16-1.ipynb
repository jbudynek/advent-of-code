{
 "cells": [
  {
   "cell_type": "code",
   "execution_count": null,
   "metadata": {},
   "outputs": [],
   "source": [
    "import numpy as np\n",
    "puzzle_input = \"59738476840592413842278931183278699191914982551989917217627400830430491752064195443028039738111788940383790187992349338669216882218362200304304999723624146472831445016914494176940890353790253254035638361091058562936884762179780957079673204210602643442603213181538626042470133454835824128662952579974587126896226949714610624975813583386749314141495655816215568136392852888525754247201021383516228214171660111826524421384758783400220017148022332694799323429711845103305784628923350853888186977670136593067604033507812932778183786479207072226236705355778245701287481396364826358903409595200711678577506495998876303181569252680220083046665757597971122614\"\n"
   ]
  },
  {
   "cell_type": "code",
   "execution_count": null,
   "metadata": {},
   "outputs": [],
   "source": [
    "\n",
    "BASE_PATTERN = [0, 1, 0, -1]\n",
    "\n",
    "def str_to_array(ccc):\n",
    "    ret = []\n",
    "    for i in range(len(ccc)):\n",
    "        ret.append(int(ccc[i]))\n",
    "    return ret\n",
    "\n",
    "def array_to_str(ccc):\n",
    "    s = \"\"\n",
    "    for k in ccc:\n",
    "        s = s+str(k)    \n",
    "    return s\n",
    "\n",
    "# takes array of int, returns array of int\n",
    "def function(ll, DBG=True):\n",
    "    ret = []\n",
    "    for i in range(len(ll)):\n",
    "        pattern = np.array(BASE_PATTERN)\n",
    "        pattern = np.repeat(pattern, (i+1))\n",
    "        if DBG:print(\"i, pattern\", i, pattern)\n",
    "\n",
    "        tot = 0\n",
    "        for j in range(len(ll)):\n",
    "            tot += ll[j]*pattern[(j+1)%len(pattern)]\n",
    "            if DBG:print(\"j, tot\", j,tot)\n",
    "\n",
    "        tot = int(str(tot)[len(str(tot))-1])\n",
    "        ret.append(tot)\n",
    "        if DBG:print(\"i, ret\", i,ret)\n",
    "    \n",
    "    return ret\n",
    "\n"
   ]
  },
  {
   "cell_type": "code",
   "execution_count": null,
   "metadata": {},
   "outputs": [],
   "source": [
    "def test(cc=None, rounds = 1, expected=None, DBG=True):\n",
    "    \n",
    "    res = str_to_array(cc)\n",
    "    for idx in range(rounds):\n",
    "        res = function(res, DBG)\n",
    "    \n",
    "    res = array_to_str(res)\n",
    "    result = str(res)[:8]\n",
    "    flag = (result == expected)\n",
    "    if (expected==None):\n",
    "        print(str(cc) + \" *\" + str(rounds) + \" -> \"+ str(result))\n",
    "    else:\n",
    "        print(str(cc) + \" *\" + str(rounds) + \" -> \"+str(result), \" -> \"+ str(flag))"
   ]
  },
  {
   "cell_type": "code",
   "execution_count": null,
   "metadata": {},
   "outputs": [],
   "source": [
    "test(\"12345678\", 1, \"48226158\", False) # \n",
    "test(\"48226158\", 1, \"34040438\", False) # \n",
    "test(\"34040438\", 1, \"03415518\", False) # \n",
    "test(\"03415518\", 1, \"01029498\", False) # \n",
    "\n",
    "test(\"12345678\", 4, \"01029498\", False) # \n",
    "\n",
    "test(\"80871224585914546619083218645595\",100,\"24176176\", False) # \n",
    "test(\"19617804207202209144916044189917\",100,\"73745418\", False) # \n",
    "test(\"69317163492948606335995924319873\",100,\"52432133\", False) # \n",
    "\n"
   ]
  },
  {
   "cell_type": "code",
   "execution_count": null,
   "metadata": {},
   "outputs": [],
   "source": [
    "\n",
    "res = str_to_array(puzzle_input)\n",
    "rounds = 100\n",
    "for idx in range(rounds):\n",
    "    if (idx % 10 ==0): print(idx)\n",
    "    res = function(res, False)\n",
    "\n",
    "res = array_to_str(res)\n",
    "result = str(res)[:8]\n",
    "print(result)\n"
   ]
  },
  {
   "cell_type": "code",
   "execution_count": null,
   "metadata": {},
   "outputs": [],
   "source": []
  }
 ],
 "metadata": {
  "kernelspec": {
   "display_name": "",
   "language": "python",
   "name": ""
  },
  "language_info": {
   "codemirror_mode": {
    "name": "ipython",
    "version": 3
   },
   "file_extension": ".py",
   "mimetype": "text/x-python",
   "name": "python",
   "nbconvert_exporter": "python",
   "pygments_lexer": "ipython3",
   "version": "3.6.6"
  }
 },
 "nbformat": 4,
 "nbformat_minor": 2
}
