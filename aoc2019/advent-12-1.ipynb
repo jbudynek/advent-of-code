{
 "cells": [
  {
   "cell_type": "code",
   "execution_count": null,
   "metadata": {},
   "outputs": [],
   "source": [
    "import numpy as np\n",
    "import re\n",
    "puzzle_input = \"\"\"<x=-10, y=-13, z=7>\n",
    "<x=1, y=2, z=1>\n",
    "<x=-15, y=-3, z=13>\n",
    "<x=3, y=7, z=-4>\"\"\"\n"
   ]
  },
  {
   "cell_type": "code",
   "execution_count": null,
   "metadata": {},
   "outputs": [],
   "source": [
    "\n",
    "def create_world(sss, DBG=True):\n",
    "    positions=[]\n",
    "    velocities=[]\n",
    "    regex = re.compile(r'[\\+\\-]?[0-9]+')\n",
    "    for line in sss.splitlines():\n",
    "        if(DBG): print(line)\n",
    "        coords = re.findall(r'\\d+', line)\n",
    "        coords = [int(k) for k in regex.findall(line)]\n",
    "        \n",
    "        positions.append([coords[0],coords[1],coords[2]])\n",
    "        velocities.append([0,0,0])\n",
    "        if(DBG): print(positions)\n",
    "    return (positions, velocities)\n",
    "    \n",
    "\n",
    "def tick(positions, velocities, i, DBG=True):\n",
    "\n",
    "    nb_moons = len(positions)\n",
    "\n",
    "    # for each pair\n",
    "    # update velocities according to gravity\n",
    "\n",
    "    for i in range(nb_moons):\n",
    "        for j in range(i,nb_moons):\n",
    "            if(DBG): print(i,j)\n",
    "            for dim in range(3):\n",
    "                if positions[i][dim] < positions[j][dim]:\n",
    "                    velocities[i][dim] += 1\n",
    "                    velocities[j][dim] -= 1\n",
    "                elif positions[i][dim] > positions[j][dim]:\n",
    "                    velocities[i][dim] -= 1\n",
    "                    velocities[j][dim] += 1\n",
    "    if (DBG):\n",
    "        print(\"after vel update\")\n",
    "        for j in range(len(positions)):\n",
    "            print(positions[j],velocities[j])\n",
    "\n",
    "    # for each moon\n",
    "    # update positions according to velocities\n",
    "    for i in range(nb_moons):\n",
    "        if(DBG): print(i)\n",
    "        for dim in range(3):\n",
    "            positions[i][dim] += velocities[i][dim]\n",
    "\n",
    "    if (DBG):\n",
    "        for j in range(len(positions)):\n",
    "            print(\"after pos update\")\n",
    "            print(positions[j],velocities[j])\n",
    "\n",
    "    return (positions, velocities, i)\n",
    "\n",
    "def compute_energy(positions, velocities, DBG=True):\n",
    "    total_energy = 0\n",
    "    nb_moons = len(positions)\n",
    "    for i in range(nb_moons):\n",
    "        pot_i = np.abs(positions[i][0]) + np.abs(positions[i][1]) + np.abs(positions[i][2])\n",
    "        kin_i = np.abs(velocities[i][0]) + np.abs(velocities[i][1]) + np.abs(velocities[i][2])\n",
    "        energy_i = pot_i*kin_i\n",
    "        if(DBG): \n",
    "            print(positions[i], velocities[i], pot_i, kin_i, energy_i)\n",
    "\n",
    "        total_energy += energy_i\n",
    "        \n",
    "    return total_energy\n",
    "\n"
   ]
  },
  {
   "cell_type": "code",
   "execution_count": null,
   "metadata": {},
   "outputs": [],
   "source": [
    "def test(cc=None, expected=None):\n",
    "    result = str(function(cc))\n",
    "    flag = (result == expected)\n",
    "    if (expected==None):\n",
    "        print(str(cc) + \" -> \"+ str(result))\n",
    "    else:\n",
    "        print(str(cc) + \" -> \"+str(result), \" -> \"+ str(flag))"
   ]
  },
  {
   "cell_type": "code",
   "execution_count": null,
   "metadata": {},
   "outputs": [],
   "source": [
    "\n",
    "def function(sss, nb_ticks, DBG=True):\n",
    "\n",
    "    (positions, velocities) = create_world(sss, DBG)\n",
    "    for i in range(nb_ticks):\n",
    "        (positions, velocities, i) = tick(positions, velocities, i, DBG)\n",
    "        total_energy = compute_energy(positions, velocities, DBG)\n",
    "        if (DBG):\n",
    "            for j in range(len(positions)):\n",
    "                print(positions[j],velocities[j])\n",
    "            print(\"total_energy\",total_energy)\n",
    "    return total_energy\n"
   ]
  },
  {
   "cell_type": "code",
   "execution_count": null,
   "metadata": {},
   "outputs": [],
   "source": [
    "\n",
    "test_input =\"\"\"<x=-1, y=0, z=2>\n",
    "<x=2, y=-10, z=-7>\n",
    "<x=4, y=-8, z=8>\n",
    "<x=3, y=5, z=-1>\"\"\"\n",
    "\n",
    "out = function(test_input, 10,False) # 179\n",
    "print(out)\n",
    "\n",
    "test_input =\"\"\"<x=-8, y=-10, z=0>\n",
    "<x=5, y=5, z=10>\n",
    "<x=2, y=-7, z=3>\n",
    "<x=9, y=-8, z=-3>\"\"\"\n",
    "\n",
    "out = function(test_input, 100,False) # 179\n",
    "print(out)\n"
   ]
  },
  {
   "cell_type": "code",
   "execution_count": null,
   "metadata": {},
   "outputs": [],
   "source": [
    "\n",
    "function(puzzle_input,1000,False)"
   ]
  },
  {
   "cell_type": "code",
   "execution_count": null,
   "metadata": {},
   "outputs": [],
   "source": [
    "ii32 = np.iinfo(np.int32)\n",
    "print(4686774924, ii32.max)"
   ]
  },
  {
   "cell_type": "code",
   "execution_count": null,
   "metadata": {},
   "outputs": [],
   "source": []
  }
 ],
 "metadata": {
  "kernelspec": {
   "display_name": "",
   "language": "python",
   "name": ""
  },
  "language_info": {
   "codemirror_mode": {
    "name": "ipython",
    "version": 3
   },
   "file_extension": ".py",
   "mimetype": "text/x-python",
   "name": "python",
   "nbconvert_exporter": "python",
   "pygments_lexer": "ipython3",
   "version": "3.6.6"
  }
 },
 "nbformat": 4,
 "nbformat_minor": 2
}
