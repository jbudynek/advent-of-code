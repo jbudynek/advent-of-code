{
 "cells": [
  {
   "cell_type": "code",
   "execution_count": null,
   "metadata": {},
   "outputs": [],
   "source": [
    "import numpy as np\n",
    "\n",
    "# fmt: off\n",
    "modules = [123835, 66973, 63652, 99256, 56009, 58012, 130669, 109933, 52958, 131656, 144786, 50437, 134194, 80230, 50326, 118204, 102780, 135520, 142248, 80341, 51071, 71346, 134081, 142321, 136230, 55934, 79697, 90116, 107825, 133052, 130259, 99566, 83066, 90923, 58475, 134697, 91830, 105838, 109003, 125258, 108679, 87310, 79813, 109814, 65616, 69275, 118405, 105178, 93140, 79535, 138051, 55728, 71875, 121207, 52011, 81209, 129059, 135782, 62791, 72135, 77765, 109498, 73862, 134825, 148898, 81633, 53277, 109858, 91672, 115105, 132871, 138334, 135049, 73083, 79234, 129281, 86062, 88448, 99612, 52138, 149290, 120562, 118975, 92896, 51162, 122410, 75479, 137800, 142149, 123518, 67806, 89937, 85963, 104764, 56710, 51314, 67275, 61135, 77580, 74726]\n",
    "# fmt: on"
   ]
  },
  {
   "cell_type": "code",
   "execution_count": null,
   "metadata": {},
   "outputs": [],
   "source": [
    "def mass_to_fuel_recursive(mass):     ff = int(np.floor(mass/3))-2     if (ff<=0): return 0     else: return ff+mass_to_fuel_recursive(ff)"
   ]
  },
  {
   "cell_type": "code",
   "execution_count": null,
   "metadata": {},
   "outputs": [],
   "source": [
    "def test(m):\n",
    "    print(str(m) + \" \" + str(mass_to_fuel_recursive(m)))"
   ]
  },
  {
   "cell_type": "code",
   "execution_count": null,
   "metadata": {},
   "outputs": [],
   "source": [
    "test(12)  # 2 test(14) #2 test(1969) #654 test(100756) #33583"
   ]
  },
  {
   "cell_type": "code",
   "execution_count": null,
   "metadata": {},
   "outputs": [],
   "source": [
    "total_fuel = 0\n",
    "for mm in modules:\n",
    "    mtf = mass_to_fuel_recursive(mm)\n",
    "    # print(str(mm)+ \" \"+str(mtf))\n",
    "    total_fuel = total_fuel + mtf\n",
    "print(total_fuel)"
   ]
  },
  {
   "cell_type": "code",
   "execution_count": null,
   "metadata": {},
   "outputs": [],
   "source": [
    "# ANSWER = 4837367"
   ]
  }
 ],
 "metadata": {
  "kernelspec": {
   "display_name": "",
   "language": "python",
   "name": ""
  },
  "language_info": {
   "codemirror_mode": {
    "name": "ipython",
    "version": 3
   },
   "file_extension": ".py",
   "mimetype": "text/x-python",
   "name": "python",
   "nbconvert_exporter": "python",
   "pygments_lexer": "ipython3",
   "version": "3.10.8"
  },
  "vscode": {
   "interpreter": {
    "hash": "9aa231cc847a53d2ce75ace9dc97035a2a17fdb624479a39f1a3d8c09209e0de"
   }
  }
 },
 "nbformat": 4,
 "nbformat_minor": 2
}
