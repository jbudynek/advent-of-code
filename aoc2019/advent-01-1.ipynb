{
 "cells": [
  {
   "cell_type": "code",
   "execution_count": null,
   "metadata": {},
   "outputs": [],
   "source": [
    "import numpy as np\n",
    "modules = [123835\n",
    ",66973\n",
    ",63652\n",
    ",99256\n",
    ",56009\n",
    ",58012\n",
    ",130669\n",
    ",109933\n",
    ",52958\n",
    ",131656\n",
    ",144786\n",
    ",50437\n",
    ",134194\n",
    ",80230\n",
    ",50326\n",
    ",118204\n",
    ",102780\n",
    ",135520\n",
    ",142248\n",
    ",80341\n",
    ",51071\n",
    ",71346\n",
    ",134081\n",
    ",142321\n",
    ",136230\n",
    ",55934\n",
    ",79697\n",
    ",90116\n",
    ",107825\n",
    ",133052\n",
    ",130259\n",
    ",99566\n",
    ",83066\n",
    ",90923\n",
    ",58475\n",
    ",134697\n",
    ",91830\n",
    ",105838\n",
    ",109003\n",
    ",125258\n",
    ",108679\n",
    ",87310\n",
    ",79813\n",
    ",109814\n",
    ",65616\n",
    ",69275\n",
    ",118405\n",
    ",105178\n",
    ",93140\n",
    ",79535\n",
    ",138051\n",
    ",55728\n",
    ",71875\n",
    ",121207\n",
    ",52011\n",
    ",81209\n",
    ",129059\n",
    ",135782\n",
    ",62791\n",
    ",72135\n",
    ",77765\n",
    ",109498\n",
    ",73862\n",
    ",134825\n",
    ",148898\n",
    ",81633\n",
    ",53277\n",
    ",109858\n",
    ",91672\n",
    ",115105\n",
    ",132871\n",
    ",138334\n",
    ",135049\n",
    ",73083\n",
    ",79234\n",
    ",129281\n",
    ",86062\n",
    ",88448\n",
    ",99612\n",
    ",52138\n",
    ",149290\n",
    ",120562\n",
    ",118975\n",
    ",92896\n",
    ",51162\n",
    ",122410\n",
    ",75479\n",
    ",137800\n",
    ",142149\n",
    ",123518\n",
    ",67806\n",
    ",89937\n",
    ",85963\n",
    ",104764\n",
    ",56710\n",
    ",51314\n",
    ",67275\n",
    ",61135\n",
    ",77580\n",
    ",74726]"
   ]
  },
  {
   "cell_type": "code",
   "execution_count": null,
   "metadata": {},
   "outputs": [],
   "source": [
    "def mass_to_fuel(mass):\n",
    "    return int(np.floor(mass/3))-2"
   ]
  },
  {
   "cell_type": "code",
   "execution_count": null,
   "metadata": {},
   "outputs": [],
   "source": [
    "def test(m):\n",
    "    print(str(m)+ \" \"+str(mass_to_fuel(m)))"
   ]
  },
  {
   "cell_type": "code",
   "execution_count": null,
   "metadata": {},
   "outputs": [],
   "source": [
    "test(12) #2\n",
    "test(14) #2\n",
    "test(1969) #654\n",
    "test(100756) #33583"
   ]
  },
  {
   "cell_type": "code",
   "execution_count": null,
   "metadata": {},
   "outputs": [],
   "source": [
    "total_fuel=0\n",
    "for mm in modules:\n",
    "    mtf=mass_to_fuel(mm)\n",
    "    #print(str(mm)+ \" \"+str(mtf))\n",
    "    total_fuel = total_fuel+mtf\n",
    "print (total_fuel)"
   ]
  },
  {
   "cell_type": "code",
   "execution_count": null,
   "metadata": {},
   "outputs": [],
   "source": [
    "# ANSWER = 3226822"
   ]
  }
 ],
 "metadata": {
  "kernelspec": {
   "display_name": "",
   "language": "python",
   "name": ""
  },
  "language_info": {
   "codemirror_mode": {
    "name": "ipython",
    "version": 3
   },
   "file_extension": ".py",
   "mimetype": "text/x-python",
   "name": "python",
   "nbconvert_exporter": "python",
   "pygments_lexer": "ipython3",
   "version": "3.6.6"
  }
 },
 "nbformat": 4,
 "nbformat_minor": 2
}
