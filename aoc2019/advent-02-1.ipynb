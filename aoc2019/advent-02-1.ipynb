{
 "cells": [
  {
   "cell_type": "code",
   "execution_count": 1,
   "metadata": {},
   "outputs": [],
   "source": [
    "import numpy as np\n",
    "input = [1,0,0,3,1,1,2,3,1,3,4,3,1,5,0,3,2,13,1,19,1,19,6,23,1,23,6,27,1,13,27,31,2,13,31,35,1,5,35,39,2,39,13,43,1,10,43,47,2,13,47,51,1,6,51,55,2,55,13,59,1,59,10,63,1,63,10,67,2,10,67,71,1,6,71,75,1,10,75,79,1,79,9,83,2,83,6,87,2,87,9,91,1,5,91,95,1,6,95,99,1,99,9,103,2,10,103,107,1,107,6,111,2,9,111,115,1,5,115,119,1,10,119,123,1,2,123,127,1,127,6,0,99,2,14,0,0]"
   ]
  },
  {
   "cell_type": "code",
   "execution_count": 14,
   "metadata": {},
   "outputs": [],
   "source": [
    "\n",
    "def opcode(code):\n",
    "    i=0\n",
    "    while(code[i]!=99):\n",
    "        if (code[i] == 1):\n",
    "            code[code[i+3]] = code[code[i+1]]+code[code[i+2]]\n",
    "        elif (code[i] == 2):\n",
    "            code[code[i+3]] = code[code[i+1]]*code[code[i+2]]\n",
    "        i = i +4\n",
    "    \n",
    "    return code\n",
    "\n"
   ]
  },
  {
   "cell_type": "code",
   "execution_count": 15,
   "metadata": {},
   "outputs": [],
   "source": [
    "def test(cc):\n",
    "    print(str(cc) + \" -> \"+str(opcode(cc)))"
   ]
  },
  {
   "cell_type": "code",
   "execution_count": 17,
   "metadata": {},
   "outputs": [
    {
     "name": "stdout",
     "output_type": "stream",
     "text": [
      "[1, 9, 10, 3, 2, 3, 11, 0, 99, 30, 40, 50] -> [3500, 9, 10, 70, 2, 3, 11, 0, 99, 30, 40, 50]\n",
      "[1, 0, 0, 0, 99] -> [2, 0, 0, 0, 99]\n",
      "[2, 3, 0, 3, 99] -> [2, 3, 0, 6, 99]\n",
      "[2, 4, 4, 5, 99, 0] -> [2, 4, 4, 5, 99, 9801]\n",
      "[1, 1, 1, 4, 99, 5, 6, 0, 99] -> [30, 1, 1, 4, 2, 5, 6, 0, 99]\n"
     ]
    }
   ],
   "source": [
    "test([1,9,10,3,2,3,11,0,99,30,40,50]) # [3500, 9, 10, 70, 2, 3, 11, 0, 99, 30, 40, 50]\n",
    "\n",
    "test([1,0,0,0,99]) # becomes 2,0,0,0,99 (1 + 1 = 2).\n",
    "test([2,3,0,3,99]) # becomes 2,3,0,6,99 (3 * 2 = 6).\n",
    "test([2,4,4,5,99,0]) # becomes 2,4,4,5,99,9801 (99 * 99 = 9801).\n",
    "test([1,1,1,4,99,5,6,0,99]) # becomes 30,1,1,4,2,5,6,0,99."
   ]
  },
  {
   "cell_type": "code",
   "execution_count": 18,
   "metadata": {},
   "outputs": [
    {
     "name": "stdout",
     "output_type": "stream",
     "text": [
      "[12490719, 12, 2, 2, 1, 1, 2, 3, 1, 3, 4, 3, 1, 5, 0, 3, 2, 13, 1, 60, 1, 19, 6, 62, 1, 23, 6, 64, 1, 13, 27, 69, 2, 13, 31, 345, 1, 5, 35, 346, 2, 39, 13, 1730, 1, 10, 43, 1734, 2, 13, 47, 8670, 1, 6, 51, 8672, 2, 55, 13, 43360, 1, 59, 10, 43364, 1, 63, 10, 43368, 2, 10, 67, 173472, 1, 6, 71, 173474, 1, 10, 75, 173478, 1, 79, 9, 173481, 2, 83, 6, 346962, 2, 87, 9, 1040886, 1, 5, 91, 1040887, 1, 6, 95, 1040889, 1, 99, 9, 1040892, 2, 10, 103, 4163568, 1, 107, 6, 4163570, 2, 9, 111, 12490710, 1, 5, 115, 12490711, 1, 10, 119, 12490715, 1, 2, 123, 12490717, 1, 127, 6, 0, 99, 2, 14, 0, 0]\n"
     ]
    }
   ],
   "source": [
    "input[1] = 12\n",
    "input[2] = 2\n",
    "print(opcode(input))"
   ]
  },
  {
   "cell_type": "code",
   "execution_count": null,
   "metadata": {},
   "outputs": [],
   "source": []
  }
 ],
 "metadata": {
  "kernelspec": {
   "display_name": "Python 3",
   "language": "python",
   "name": "python3"
  },
  "language_info": {
   "codemirror_mode": {
    "name": "ipython",
    "version": 3
   },
   "file_extension": ".py",
   "mimetype": "text/x-python",
   "name": "python",
   "nbconvert_exporter": "python",
   "pygments_lexer": "ipython3",
   "version": "3.6.6"
  }
 },
 "nbformat": 4,
 "nbformat_minor": 2
}
