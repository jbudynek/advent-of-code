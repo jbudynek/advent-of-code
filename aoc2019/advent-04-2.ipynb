{
 "cells": [
  {
   "cell_type": "code",
   "execution_count": null,
   "metadata": {},
   "outputs": [],
   "source": [
    "import numpy as np\n",
    "input = []"
   ]
  },
  {
   "cell_type": "code",
   "execution_count": null,
   "metadata": {},
   "outputs": [],
   "source": [
    "def count_cons(c,st):\n",
    "    count=0\n",
    "    for i in range(len(st)):\n",
    "        if(st[i]==c): count = count + 1\n",
    "    return count\n",
    "\n",
    "def function(ccc):\n",
    "    ret = 0\n",
    "    ss = str(ccc)\n",
    "    #print(ccc)\n",
    "    # find double digit\n",
    "    for i in range(0,5): \n",
    "        #print(\"i=\"+str(i))\n",
    "        if ((ss[i]==ss[i+1])):\n",
    "            #print(ss[i],ss[i+1])\n",
    "            if(count_cons(ss[i],ss)>2):\n",
    "                ret =0\n",
    "            else:\n",
    "                ret = 1\n",
    "                break\n",
    "            #print(\"ret=\"+str(ret))\n",
    "    if (ret==0): return ret\n",
    "    # ensure decrease\n",
    "    for i in range(0,5): \n",
    "        if ((ss[i]>ss[i+1])):\n",
    "            #print(ss[i],ss[i+1])\n",
    "            ret = 0\n",
    "    if (ret==0): return ret\n",
    "    \n",
    "    return ret\n",
    "\n"
   ]
  },
  {
   "cell_type": "code",
   "execution_count": null,
   "metadata": {},
   "outputs": [],
   "source": [
    "def test(cc):\n",
    "    print(str(cc) + \" -> \"+str(function(cc)))"
   ]
  },
  {
   "cell_type": "code",
   "execution_count": null,
   "metadata": {},
   "outputs": [],
   "source": [
    "test(112233) # 1 \n",
    "test(123444) #0\n",
    "test(111122) #1\n",
    "#test(122789) #1\n",
    "#test(123788) #1\n",
    "#test(121789) #0\n"
   ]
  },
  {
   "cell_type": "code",
   "execution_count": null,
   "metadata": {},
   "outputs": [],
   "source": [
    "#function(input)\n",
    "\n",
    "total = 0\n",
    "for i in range(264793,803935+1):\n",
    "    j = function(i)\n",
    "    #print(i,j)\n",
    "    total = total+j\n",
    "    \n",
    "print(total)\n"
   ]
  },
  {
   "cell_type": "code",
   "execution_count": null,
   "metadata": {},
   "outputs": [],
   "source": []
  },
  {
   "cell_type": "code",
   "execution_count": null,
   "metadata": {},
   "outputs": [],
   "source": []
  }
 ],
 "metadata": {
  "kernelspec": {
   "display_name": "",
   "language": "python",
   "name": ""
  },
  "language_info": {
   "codemirror_mode": {
    "name": "ipython",
    "version": 3
   },
   "file_extension": ".py",
   "mimetype": "text/x-python",
   "name": "python",
   "nbconvert_exporter": "python",
   "pygments_lexer": "ipython3",
   "version": "3.6.6"
  }
 },
 "nbformat": 4,
 "nbformat_minor": 2
}
